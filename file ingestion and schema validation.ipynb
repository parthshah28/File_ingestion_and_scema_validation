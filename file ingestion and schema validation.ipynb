{
  "nbformat": 4,
  "nbformat_minor": 0,
  "metadata": {
    "colab": {
      "name": "Copy of file_ingestion_and_schema_validation.ipynb",
      "provenance": [],
      "collapsed_sections": []
    },
    "kernelspec": {
      "name": "python3",
      "display_name": "Python 3"
    },
    "language_info": {
      "name": "python"
    }
  },
  "cells": [
    {
      "cell_type": "markdown",
      "metadata": {
        "id": "NtNIsZCukiVf"
      },
      "source": [
        "- **Name:** Parth Shah\n",
        "- **Batch Code:** LISUM01\n",
        "\n",
        "\n",
        "\n",
        "\n",
        "**Data Link:** https://www.kaggle.com/dhruvildave/wikibooks-dataset"
      ]
    },
    {
      "cell_type": "markdown",
      "metadata": {
        "id": "holVTbutkUpB"
      },
      "source": [
        "# **Uploading Data**"
      ]
    },
    {
      "cell_type": "code",
      "metadata": {
        "colab": {
          "base_uri": "https://localhost:8080/"
        },
        "id": "WZOTIskOfhgQ",
        "outputId": "c0923498-cbe1-49b4-ed85-4de9111d27a8"
      },
      "source": [
        "from google.colab import drive\n",
        "drive.mount('/gdrive')"
      ],
      "execution_count": null,
      "outputs": [
        {
          "output_type": "stream",
          "text": [
            "Mounted at /gdrive\n"
          ],
          "name": "stdout"
        }
      ]
    },
    {
      "cell_type": "code",
      "metadata": {
        "colab": {
          "base_uri": "https://localhost:8080/"
        },
        "id": "XtcaoZb0j56t",
        "outputId": "36b563eb-2650-4fab-ba3a-9af1c3c4119e"
      },
      "source": [
        "!ls \"/gdrive/My Drive/Data\""
      ],
      "execution_count": null,
      "outputs": [
        {
          "output_type": "stream",
          "text": [
            "en-books-dataset.csv  en-books-dataset.csv.zip\tscraping_data\n"
          ],
          "name": "stdout"
        }
      ]
    },
    {
      "cell_type": "code",
      "metadata": {
        "id": "VrImFJoDj7KN"
      },
      "source": [
        "import os\n",
        "os.chdir(\"/gdrive/My Drive/Data\")"
      ],
      "execution_count": null,
      "outputs": []
    },
    {
      "cell_type": "markdown",
      "metadata": {
        "id": "7u9fpSQPqZOX"
      },
      "source": [
        "# **Extract all files from a zip file to current directory**"
      ]
    },
    {
      "cell_type": "code",
      "metadata": {
        "id": "kWHU9RG_qaJM"
      },
      "source": [
        "from zipfile import ZipFile\n",
        "# Create a ZipFile Object and load sample.zip in it\n",
        "with ZipFile('en-books-dataset.csv.zip', 'r') as zipObj:\n",
        "   # Extract all the contents of zip file in current directory\n",
        "   zipObj.extractall()"
      ],
      "execution_count": null,
      "outputs": []
    },
    {
      "cell_type": "code",
      "metadata": {
        "colab": {
          "base_uri": "https://localhost:8080/"
        },
        "id": "Mh3eDBevwqG3",
        "outputId": "60ee6cbc-3da1-49dc-ba53-f846ca3fedb1"
      },
      "source": [
        "!ls"
      ],
      "execution_count": null,
      "outputs": [
        {
          "output_type": "stream",
          "text": [
            "en-books-dataset.csv  en-books-dataset.csv.zip\tscraping_data\n"
          ],
          "name": "stdout"
        }
      ]
    },
    {
      "cell_type": "markdown",
      "metadata": {
        "id": "1mzxISgXw0kz"
      },
      "source": [
        "# **Read the files with Pandas**"
      ]
    },
    {
      "cell_type": "code",
      "metadata": {
        "colab": {
          "base_uri": "https://localhost:8080/"
        },
        "id": "ppuO9_f44RYu",
        "outputId": "886524fb-e6e3-4133-b831-1b85e83c9d94"
      },
      "source": [
        "!python -m pip install \"dask[dataframe]\""
      ],
      "execution_count": null,
      "outputs": [
        {
          "output_type": "stream",
          "text": [
            "Requirement already satisfied: dask[dataframe] in /usr/local/lib/python3.7/dist-packages (2.12.0)\n",
            "Requirement already satisfied: toolz>=0.7.3; extra == \"dataframe\" in /usr/local/lib/python3.7/dist-packages (from dask[dataframe]) (0.11.1)\n",
            "Collecting partd>=0.3.10; extra == \"dataframe\"\n",
            "  Downloading https://files.pythonhosted.org/packages/44/e1/68dbe731c9c067655bff1eca5b7d40c20ca4b23fd5ec9f3d17e201a6f36b/partd-1.1.0-py3-none-any.whl\n",
            "Requirement already satisfied: numpy>=1.13.0; extra == \"dataframe\" in /usr/local/lib/python3.7/dist-packages (from dask[dataframe]) (1.19.5)\n",
            "Collecting fsspec>=0.6.0; extra == \"dataframe\"\n",
            "\u001b[?25l  Downloading https://files.pythonhosted.org/packages/91/0d/a6bfee0ddf47b254286b9bd574e6f50978c69897647ae15b14230711806e/fsspec-0.8.7-py3-none-any.whl (103kB)\n",
            "\u001b[K     |████████████████████████████████| 112kB 5.9MB/s \n",
            "\u001b[?25hRequirement already satisfied: pandas>=0.23.0; extra == \"dataframe\" in /usr/local/lib/python3.7/dist-packages (from dask[dataframe]) (1.1.5)\n",
            "Collecting locket\n",
            "  Downloading https://files.pythonhosted.org/packages/50/b8/e789e45b9b9c2db75e9d9e6ceb022c8d1d7e49b2c085ce8c05600f90a96b/locket-0.2.1-py2.py3-none-any.whl\n",
            "Requirement already satisfied: importlib-metadata; python_version < \"3.8\" in /usr/local/lib/python3.7/dist-packages (from fsspec>=0.6.0; extra == \"dataframe\"->dask[dataframe]) (3.8.1)\n",
            "Requirement already satisfied: pytz>=2017.2 in /usr/local/lib/python3.7/dist-packages (from pandas>=0.23.0; extra == \"dataframe\"->dask[dataframe]) (2018.9)\n",
            "Requirement already satisfied: python-dateutil>=2.7.3 in /usr/local/lib/python3.7/dist-packages (from pandas>=0.23.0; extra == \"dataframe\"->dask[dataframe]) (2.8.1)\n",
            "Requirement already satisfied: typing-extensions>=3.6.4; python_version < \"3.8\" in /usr/local/lib/python3.7/dist-packages (from importlib-metadata; python_version < \"3.8\"->fsspec>=0.6.0; extra == \"dataframe\"->dask[dataframe]) (3.7.4.3)\n",
            "Requirement already satisfied: zipp>=0.5 in /usr/local/lib/python3.7/dist-packages (from importlib-metadata; python_version < \"3.8\"->fsspec>=0.6.0; extra == \"dataframe\"->dask[dataframe]) (3.4.1)\n",
            "Requirement already satisfied: six>=1.5 in /usr/local/lib/python3.7/dist-packages (from python-dateutil>=2.7.3->pandas>=0.23.0; extra == \"dataframe\"->dask[dataframe]) (1.15.0)\n",
            "Installing collected packages: locket, partd, fsspec\n",
            "Successfully installed fsspec-0.8.7 locket-0.2.1 partd-1.1.0\n"
          ],
          "name": "stdout"
        }
      ]
    },
    {
      "cell_type": "code",
      "metadata": {
        "colab": {
          "base_uri": "https://localhost:8080/"
        },
        "id": "xrNBxTT0w8Sq",
        "outputId": "09f619bb-6a75-4c16-a822-fe0426290d31"
      },
      "source": [
        "import csv\n",
        "import time\n",
        "import pandas as pd\n",
        "import dask.dataframe\n",
        "\n",
        "input_file = \"en-books-dataset.csv\"\n",
        "\n",
        "start_time = time.time()\n",
        "data = csv.DictReader(open(input_file))\n",
        "print(\"csv.DictReader took %s seconds\" % (time.time() - start_time))\n",
        "\n",
        "start_time = time.time()\n",
        "data = pd.read_csv('en-books-dataset.csv', sep=', ')\n",
        "print(\"pd.read_csv took %s seconds\" % (time.time() - start_time))\n",
        "\n",
        "start_time = time.time()\n",
        "data = pd.read_csv(\"en-books-dataset.csv\", chunksize=100000)\n",
        "print(\"pd.read_csv with chunksize took %s seconds\" % (time.time() - start_time))\n",
        "\n",
        "start_time = time.time()\n",
        "data = dask.dataframe.read_csv(input_file)\n",
        "print(\"dask.dataframe took %s seconds\" % (time.time() - start_time))"
      ],
      "execution_count": null,
      "outputs": [
        {
          "output_type": "stream",
          "text": [
            "csv.DictReader took 0.0039577484130859375 seconds\n"
          ],
          "name": "stdout"
        },
        {
          "output_type": "stream",
          "text": [
            "/usr/local/lib/python3.7/dist-packages/ipykernel_launcher.py:13: ParserWarning: Falling back to the 'python' engine because the 'c' engine does not support regex separators (separators > 1 char and different from '\\s+' are interpreted as regex); you can avoid this warning by specifying engine='python'.\n",
            "  del sys.path[0]\n"
          ],
          "name": "stderr"
        }
      ]
    },
    {
      "cell_type": "code",
      "metadata": {
        "id": "WHTrqQlI0d9_"
      },
      "source": [
        ""
      ],
      "execution_count": null,
      "outputs": []
    }
  ]
}
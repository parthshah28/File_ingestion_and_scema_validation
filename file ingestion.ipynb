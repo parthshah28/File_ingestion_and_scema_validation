{
  "nbformat": 4,
  "nbformat_minor": 5,
  "metadata": {
    "kernelspec": {
      "display_name": "Python 3",
      "language": "python",
      "name": "python3"
    },
    "language_info": {
      "codemirror_mode": {
        "name": "ipython",
        "version": 3
      },
      "file_extension": ".py",
      "mimetype": "text/x-python",
      "name": "python",
      "nbconvert_exporter": "python",
      "pygments_lexer": "ipython3",
      "version": "3.8.8"
    },
    "colab": {
      "name": "Copy of file_ingestion.ipynb",
      "provenance": []
    }
  },
  "cells": [
    {
      "cell_type": "markdown",
      "metadata": {
        "id": "56b5b944-727c-4b04-a4b1-cdb9eb6aa10c"
      },
      "source": [
        "### File ingestion and schema validation"
      ],
      "id": "56b5b944-727c-4b04-a4b1-cdb9eb6aa10c"
    },
    {
      "cell_type": "markdown",
      "metadata": {
        "id": "0bf00908-0408-4836-a57f-0e037be97d92"
      },
      "source": [
        "Take any csv/text file of 2+ GB of your choice. --- (You can do this assignment on Google colab)\n",
        "\n",
        "Read the file ( Present approach of reading the file )\n",
        "\n",
        "Try different methods of file reading eg: Dask, Modin, Ray, pandas and present your findings in term of computational efficiency\n",
        "\n",
        "Perform basic validation on data columns : eg: remove special character , white spaces from the col name\n",
        "\n",
        "As you already know the schema hence create a YAML file and write the column name in YAML file. --define separator of read and write file, column name in YAML\n",
        "\n",
        "Validate number of columns and column name of ingested file with YAML.\n",
        "\n",
        "Write the file in pipe separated text file (|) in gz format.\n",
        "\n",
        "Create a summary of the file:\n",
        "\n",
        "Total number of rows,\n",
        "\n",
        "total number of columns\n",
        "\n",
        "file size"
      ],
      "id": "0bf00908-0408-4836-a57f-0e037be97d92"
    },
    {
      "cell_type": "markdown",
      "metadata": {
        "id": "b8a06acf-e61c-4def-89b8-9ca34b4ea353"
      },
      "source": [
        "# Data Ingestion sample code walkthrough\n",
        "\n",
        "- Create a utility file\n",
        "- Config file creation\n",
        "- Data ingestion pipeline"
      ],
      "id": "b8a06acf-e61c-4def-89b8-9ca34b4ea353"
    },
    {
      "cell_type": "code",
      "metadata": {
        "id": "e04973c8-716b-4ff2-8ee5-f2282e9edead",
        "outputId": "0a51330f-03a8-472e-c496-3d52c68064ae"
      },
      "source": [
        "%%writefile testutility.py\n",
        "import logging\n",
        "import os\n",
        "import subprocess\n",
        "import yaml\n",
        "import pandas as pd\n",
        "import datetime \n",
        "import gc\n",
        "import re\n",
        "\n",
        "\n",
        "################\n",
        "# File Reading #\n",
        "################\n",
        "\n",
        "def read_config_file(filepath):\n",
        "    with open(filepath, 'r') as stream:\n",
        "        try:\n",
        "            return yaml.safe_load(stream)\n",
        "        except yaml.YAMLError as exc:\n",
        "            logging.error(exc)\n",
        "\n",
        "\n",
        "def replacer(string, char):\n",
        "    pattern = char + '{2,}'\n",
        "    string = re.sub(pattern, char, string) \n",
        "    return string\n",
        "\n",
        "def col_header_val(df,table_config):\n",
        "    '''\n",
        "    replace whitespaces in the column\n",
        "    and standardized column names\n",
        "    '''\n",
        "    df.columns = df.columns.str.lower()\n",
        "    df.columns = df.columns.str.replace('[^\\w]','_',regex=True)\n",
        "    df.columns = list(map(lambda x: x.strip('_'), list(df.columns)))\n",
        "    df.columns = list(map(lambda x: replacer(x,'_'), list(df.columns)))\n",
        "    expected_col = list(map(lambda x: x.lower(),  table_config['columns']))\n",
        "    expected_col.sort()\n",
        "    df.columns =list(map(lambda x: x.lower(), list(df.columns)))\n",
        "    df = df.reindex(sorted(df.columns), axis=1)\n",
        "    if len(df.columns) == len(expected_col) and list(expected_col)  == list(df.columns):\n",
        "        print(\"column name and column length validation passed\")\n",
        "        return 1\n",
        "    else:\n",
        "        print(\"column name and column length validation failed\")\n",
        "        mismatched_columns_file = list(set(df.columns).difference(expected_col))\n",
        "        print(\"Following File columns are not in the YAML file\",mismatched_columns_file)\n",
        "        missing_YAML_file = list(set(expected_col).difference(df.columns))\n",
        "        print(\"Following YAML columns are not in the file uploaded\",missing_YAML_file)\n",
        "        logging.info(f'df columns: {df.columns}')\n",
        "        logging.info(f'expected columns: {expected_col}')\n",
        "        return 0"
      ],
      "id": "e04973c8-716b-4ff2-8ee5-f2282e9edead",
      "execution_count": null,
      "outputs": [
        {
          "output_type": "stream",
          "text": [
            "Writing testutility.py\n"
          ],
          "name": "stdout"
        }
      ]
    },
    {
      "cell_type": "markdown",
      "metadata": {
        "id": "ec94c5f4-f10e-4f48-83ce-38914945d000"
      },
      "source": [
        "# Write YAML File"
      ],
      "id": "ec94c5f4-f10e-4f48-83ce-38914945d000"
    },
    {
      "cell_type": "code",
      "metadata": {
        "id": "f030eff5-c54e-44b3-a138-2cd26781ca71",
        "outputId": "fa7797be-6f81-4b44-de50-1d70fc0a24be"
      },
      "source": [
        "%%writefile file.yaml\n",
        "file_type: csv\n",
        "dataset_name: en-books-dataset\n",
        "file_name: test_data\n",
        "table_name: edsurv\n",
        "inbound_delimiter: \",\"\n",
        "outbound_delimiter: \"|\"\n",
        "skip_leading_rows: 1\n",
        "columns: \n",
        "    - title\n",
        "    - url\n",
        "    - abstract"
      ],
      "id": "f030eff5-c54e-44b3-a138-2cd26781ca71",
      "execution_count": null,
      "outputs": [
        {
          "output_type": "stream",
          "text": [
            "Writing file.yaml\n"
          ],
          "name": "stdout"
        }
      ]
    },
    {
      "cell_type": "code",
      "metadata": {
        "id": "8995edbd-71cd-4baf-b470-a03cda07795b"
      },
      "source": [
        "# Read config file\n",
        "import testutility as util\n",
        "config_data = util.read_config_file(\"file.yaml\")"
      ],
      "id": "8995edbd-71cd-4baf-b470-a03cda07795b",
      "execution_count": null,
      "outputs": []
    },
    {
      "cell_type": "code",
      "metadata": {
        "id": "3d565f42-ab97-4f5b-9eb7-a6201ed7122c",
        "outputId": "63a4ab22-c0de-4e99-f367-1c5635820757"
      },
      "source": [
        "config_data['inbound_delimiter']"
      ],
      "id": "3d565f42-ab97-4f5b-9eb7-a6201ed7122c",
      "execution_count": null,
      "outputs": [
        {
          "output_type": "execute_result",
          "data": {
            "text/plain": [
              "','"
            ]
          },
          "metadata": {
            "tags": []
          },
          "execution_count": 4
        }
      ]
    },
    {
      "cell_type": "code",
      "metadata": {
        "id": "3f700ee4-1924-4c78-8312-4bd5382c3bf5",
        "outputId": "44901e1f-d4bc-496d-cfbb-0150129ffb99"
      },
      "source": [
        "# inspecting data of config file\n",
        "config_data"
      ],
      "id": "3f700ee4-1924-4c78-8312-4bd5382c3bf5",
      "execution_count": null,
      "outputs": [
        {
          "output_type": "execute_result",
          "data": {
            "text/plain": [
              "{'file_type': 'csv',\n",
              " 'dataset_name': 'en-books-dataset',\n",
              " 'file_name': 'test_data',\n",
              " 'table_name': 'edsurv',\n",
              " 'inbound_delimiter': ',',\n",
              " 'outbound_delimiter': '|',\n",
              " 'skip_leading_rows': 1,\n",
              " 'columns': ['title', 'url', 'abstract']}"
            ]
          },
          "metadata": {
            "tags": []
          },
          "execution_count": 5
        }
      ]
    },
    {
      "cell_type": "code",
      "metadata": {
        "id": "44b3c1ff-7426-42fd-b01f-0139f9744160",
        "outputId": "8f3aef10-bdca-4e65-8e36-355ea50eb2d5"
      },
      "source": [
        "# Normal reading process of the file\n",
        "import pandas as pd\n",
        "df = pd.read_csv(\"en-books-dataset.csv\",delimiter=',')\n",
        "df.head()"
      ],
      "id": "44b3c1ff-7426-42fd-b01f-0139f9744160",
      "execution_count": null,
      "outputs": [
        {
          "output_type": "execute_result",
          "data": {
            "text/html": [
              "<div>\n",
              "<style scoped>\n",
              "    .dataframe tbody tr th:only-of-type {\n",
              "        vertical-align: middle;\n",
              "    }\n",
              "\n",
              "    .dataframe tbody tr th {\n",
              "        vertical-align: top;\n",
              "    }\n",
              "\n",
              "    .dataframe thead th {\n",
              "        text-align: right;\n",
              "    }\n",
              "</style>\n",
              "<table border=\"1\" class=\"dataframe\">\n",
              "  <thead>\n",
              "    <tr style=\"text-align: right;\">\n",
              "      <th></th>\n",
              "      <th>title</th>\n",
              "      <th>url</th>\n",
              "      <th>abstract</th>\n",
              "      <th>body_text</th>\n",
              "      <th>body_html</th>\n",
              "    </tr>\n",
              "  </thead>\n",
              "  <tbody>\n",
              "    <tr>\n",
              "      <th>0</th>\n",
              "      <td>Wikibooks: Radiation Oncology/NHL/CLL-SLL</td>\n",
              "      <td>https://en.wikibooks.org/wiki/Radiation_Oncolo...</td>\n",
              "      <td>Chronic Lymphocytic Leukemia and Small Lymphoc...</td>\n",
              "      <td>Front Page: Radiation Oncology | RTOG Trials |...</td>\n",
              "      <td>&lt;div class=\"mw-parser-output\"&gt;&lt;table width=\"10...</td>\n",
              "    </tr>\n",
              "    <tr>\n",
              "      <th>1</th>\n",
              "      <td>Wikibooks: Romanian/Lesson 9</td>\n",
              "      <td>https://en.wikibooks.org/wiki/Romanian/Lesson_9</td>\n",
              "      <td>==Băuturi/Beverages==</td>\n",
              "      <td>Băuturi/Beverages[edit]\\nTea : Ceai\\nMilk : La...</td>\n",
              "      <td>&lt;div class=\"mw-parser-output\"&gt;&lt;h2&gt;&lt;span id=\"B....</td>\n",
              "    </tr>\n",
              "    <tr>\n",
              "      <th>2</th>\n",
              "      <td>Wikibooks: Karrigell</td>\n",
              "      <td>https://en.wikibooks.org/wiki/Karrigell</td>\n",
              "      <td>Karrigell is an open Source Python web framewo...</td>\n",
              "      <td>Karrigell is an open Source Python web framewo...</td>\n",
              "      <td>&lt;div class=\"mw-parser-output\"&gt;&lt;p&gt;Karrigell is ...</td>\n",
              "    </tr>\n",
              "    <tr>\n",
              "      <th>3</th>\n",
              "      <td>Wikibooks: The Pyrogenesis Engine/0 A.D./GuiSe...</td>\n",
              "      <td>https://en.wikibooks.org/wiki/The_Pyrogenesis_...</td>\n",
              "      <td>====setupUnitPanel====</td>\n",
              "      <td>setupUnitPanel[edit]\\nHelper function for upda...</td>\n",
              "      <td>&lt;div class=\"mw-parser-output\"&gt;&lt;h4&gt;&lt;span class=...</td>\n",
              "    </tr>\n",
              "    <tr>\n",
              "      <th>4</th>\n",
              "      <td>Wikibooks: LMIs in Control/pages/Exterior Coni...</td>\n",
              "      <td>https://en.wikibooks.org/wiki/LMIs_in_Control/...</td>\n",
              "      <td>== The Concept ==</td>\n",
              "      <td>Contents\\n\\n1 The Concept\\n2 The System\\n3 The...</td>\n",
              "      <td>&lt;div class=\"mw-parser-output\"&gt;&lt;div id=\"toc\" cl...</td>\n",
              "    </tr>\n",
              "  </tbody>\n",
              "</table>\n",
              "</div>"
            ],
            "text/plain": [
              "                                               title  \\\n",
              "0          Wikibooks: Radiation Oncology/NHL/CLL-SLL   \n",
              "1                       Wikibooks: Romanian/Lesson 9   \n",
              "2                               Wikibooks: Karrigell   \n",
              "3  Wikibooks: The Pyrogenesis Engine/0 A.D./GuiSe...   \n",
              "4  Wikibooks: LMIs in Control/pages/Exterior Coni...   \n",
              "\n",
              "                                                 url  \\\n",
              "0  https://en.wikibooks.org/wiki/Radiation_Oncolo...   \n",
              "1    https://en.wikibooks.org/wiki/Romanian/Lesson_9   \n",
              "2            https://en.wikibooks.org/wiki/Karrigell   \n",
              "3  https://en.wikibooks.org/wiki/The_Pyrogenesis_...   \n",
              "4  https://en.wikibooks.org/wiki/LMIs_in_Control/...   \n",
              "\n",
              "                                            abstract  \\\n",
              "0  Chronic Lymphocytic Leukemia and Small Lymphoc...   \n",
              "1                              ==Băuturi/Beverages==   \n",
              "2  Karrigell is an open Source Python web framewo...   \n",
              "3                             ====setupUnitPanel====   \n",
              "4                                  == The Concept ==   \n",
              "\n",
              "                                           body_text  \\\n",
              "0  Front Page: Radiation Oncology | RTOG Trials |...   \n",
              "1  Băuturi/Beverages[edit]\\nTea : Ceai\\nMilk : La...   \n",
              "2  Karrigell is an open Source Python web framewo...   \n",
              "3  setupUnitPanel[edit]\\nHelper function for upda...   \n",
              "4  Contents\\n\\n1 The Concept\\n2 The System\\n3 The...   \n",
              "\n",
              "                                           body_html  \n",
              "0  <div class=\"mw-parser-output\"><table width=\"10...  \n",
              "1  <div class=\"mw-parser-output\"><h2><span id=\"B....  \n",
              "2  <div class=\"mw-parser-output\"><p>Karrigell is ...  \n",
              "3  <div class=\"mw-parser-output\"><h4><span class=...  \n",
              "4  <div class=\"mw-parser-output\"><div id=\"toc\" cl...  "
            ]
          },
          "metadata": {
            "tags": []
          },
          "execution_count": 6
        }
      ]
    },
    {
      "cell_type": "code",
      "metadata": {
        "id": "32549d0f-d481-4df8-b345-66b6c0afbf3d",
        "outputId": "ddc5c119-af5a-4957-cfca-6bc6bc8c0050"
      },
      "source": [
        "# read the file using config file\n",
        "file_type = config_data['file_type']\n",
        "source_file = \"./\" + config_data['file_name'] + f'.{file_type}'\n",
        "#print(\"\",source_file)\n",
        "df = pd.read_csv(source_file,config_data['inbound_delimiter'])\n",
        "df.head()"
      ],
      "id": "32549d0f-d481-4df8-b345-66b6c0afbf3d",
      "execution_count": null,
      "outputs": [
        {
          "output_type": "execute_result",
          "data": {
            "text/html": [
              "<div>\n",
              "<style scoped>\n",
              "    .dataframe tbody tr th:only-of-type {\n",
              "        vertical-align: middle;\n",
              "    }\n",
              "\n",
              "    .dataframe tbody tr th {\n",
              "        vertical-align: top;\n",
              "    }\n",
              "\n",
              "    .dataframe thead th {\n",
              "        text-align: right;\n",
              "    }\n",
              "</style>\n",
              "<table border=\"1\" class=\"dataframe\">\n",
              "  <thead>\n",
              "    <tr style=\"text-align: right;\">\n",
              "      <th></th>\n",
              "      <th>title</th>\n",
              "      <th>url</th>\n",
              "      <th>abstract</th>\n",
              "    </tr>\n",
              "  </thead>\n",
              "  <tbody>\n",
              "    <tr>\n",
              "      <th>0</th>\n",
              "      <td>Wikibooks: Radiation Oncology/NHL/CLL-SLL</td>\n",
              "      <td>https://en.wikibooks.org/wiki/Radiation_Oncolo</td>\n",
              "      <td>Chronic Lymphocytic Leukemia and Small Lymphoc...</td>\n",
              "    </tr>\n",
              "    <tr>\n",
              "      <th>1</th>\n",
              "      <td>Wikibooks: Romanian/Lesson 9</td>\n",
              "      <td>https://en.wikibooks.org/wiki/Romanian/Lesson_9</td>\n",
              "      <td>==Băuturi/Beverages==</td>\n",
              "    </tr>\n",
              "    <tr>\n",
              "      <th>2</th>\n",
              "      <td>Wikibooks: Karrigell</td>\n",
              "      <td>https://en.wikibooks.org/wiki/Karrigell</td>\n",
              "      <td>Karrigell is an open Source Python web framewo...</td>\n",
              "    </tr>\n",
              "    <tr>\n",
              "      <th>3</th>\n",
              "      <td>Wikibooks: Calculus/Precalculus</td>\n",
              "      <td>https://en.wikibooks.org/wiki/The_Pyrogenesis</td>\n",
              "      <td>====setupUnitPanel====</td>\n",
              "    </tr>\n",
              "  </tbody>\n",
              "</table>\n",
              "</div>"
            ],
            "text/plain": [
              "                                       title  \\\n",
              "0  Wikibooks: Radiation Oncology/NHL/CLL-SLL   \n",
              "1               Wikibooks: Romanian/Lesson 9   \n",
              "2                       Wikibooks: Karrigell   \n",
              "3            Wikibooks: Calculus/Precalculus   \n",
              "\n",
              "                                               url  \\\n",
              "0   https://en.wikibooks.org/wiki/Radiation_Oncolo   \n",
              "1  https://en.wikibooks.org/wiki/Romanian/Lesson_9   \n",
              "2          https://en.wikibooks.org/wiki/Karrigell   \n",
              "3    https://en.wikibooks.org/wiki/The_Pyrogenesis   \n",
              "\n",
              "                                            abstract  \n",
              "0  Chronic Lymphocytic Leukemia and Small Lymphoc...  \n",
              "1                              ==Băuturi/Beverages==  \n",
              "2  Karrigell is an open Source Python web framewo...  \n",
              "3                             ====setupUnitPanel====  "
            ]
          },
          "metadata": {
            "tags": []
          },
          "execution_count": 21
        }
      ]
    },
    {
      "cell_type": "code",
      "metadata": {
        "id": "c7961d11-ca35-4dcf-bc24-d1698ccf9f1d",
        "outputId": "09cf6623-b1aa-4b35-e7f1-1883a2334cb4"
      },
      "source": [
        "# validate the header of the file\n",
        "util.col_header_val(df,config_data)"
      ],
      "id": "c7961d11-ca35-4dcf-bc24-d1698ccf9f1d",
      "execution_count": null,
      "outputs": [
        {
          "output_type": "stream",
          "text": [
            "column name and column length validation failed\n",
            "Following File columns are not in the YAML file ['body_text', 'body_html']\n",
            "Following YAML columns are not in the file uploaded []\n"
          ],
          "name": "stdout"
        },
        {
          "output_type": "execute_result",
          "data": {
            "text/plain": [
              "0"
            ]
          },
          "metadata": {
            "tags": []
          },
          "execution_count": 8
        }
      ]
    },
    {
      "cell_type": "code",
      "metadata": {
        "id": "08bb0696-52d2-4c65-9a5d-0cd5294f1b4b",
        "outputId": "8d327303-aba3-4807-97c3-8a4c94274c10"
      },
      "source": [
        "print(\"columns of files are:\" ,df.columns)\n",
        "print(\"columns of YAML are:\" ,config_data['columns'])"
      ],
      "id": "08bb0696-52d2-4c65-9a5d-0cd5294f1b4b",
      "execution_count": null,
      "outputs": [
        {
          "output_type": "stream",
          "text": [
            "columns of files are: Index(['title', 'url', 'abstract', 'body_text', 'body_html'], dtype='object')\n",
            "columns of YAML are: ['title', 'url', 'abstract']\n"
          ],
          "name": "stdout"
        }
      ]
    },
    {
      "cell_type": "code",
      "metadata": {
        "id": "426115f5-db50-46fe-936b-ed0de0d45415",
        "outputId": "eb6cf7b4-267d-495d-c495-4c1e109e2ac2"
      },
      "source": [
        "if util.col_header_val(df,config_data)==0:\n",
        "    print(\"validation failed\")\n",
        "    # write code to reject the file\n",
        "else:\n",
        "    print(\"col validation passed\")\n",
        "    # write the code to perform further action\n",
        "    # in the pipeline"
      ],
      "id": "426115f5-db50-46fe-936b-ed0de0d45415",
      "execution_count": null,
      "outputs": [
        {
          "output_type": "stream",
          "text": [
            "column name and column length validation failed\n",
            "Following File columns are not in the YAML file ['body_text', 'body_html']\n",
            "Following YAML columns are not in the file uploaded []\n",
            "validation failed\n"
          ],
          "name": "stdout"
        }
      ]
    },
    {
      "cell_type": "code",
      "metadata": {
        "id": "414c9274-f63c-4dba-b925-2c3efc89b368",
        "outputId": "59050d05-a3ed-488a-e4e5-50bba1f01fd3"
      },
      "source": [
        "pd.read_csv(\"en-books-dataset.csv\")"
      ],
      "id": "414c9274-f63c-4dba-b925-2c3efc89b368",
      "execution_count": null,
      "outputs": [
        {
          "output_type": "execute_result",
          "data": {
            "text/html": [
              "<div>\n",
              "<style scoped>\n",
              "    .dataframe tbody tr th:only-of-type {\n",
              "        vertical-align: middle;\n",
              "    }\n",
              "\n",
              "    .dataframe tbody tr th {\n",
              "        vertical-align: top;\n",
              "    }\n",
              "\n",
              "    .dataframe thead th {\n",
              "        text-align: right;\n",
              "    }\n",
              "</style>\n",
              "<table border=\"1\" class=\"dataframe\">\n",
              "  <thead>\n",
              "    <tr style=\"text-align: right;\">\n",
              "      <th></th>\n",
              "      <th>title</th>\n",
              "      <th>url</th>\n",
              "      <th>abstract</th>\n",
              "      <th>body_text</th>\n",
              "      <th>body_html</th>\n",
              "    </tr>\n",
              "  </thead>\n",
              "  <tbody>\n",
              "    <tr>\n",
              "      <th>0</th>\n",
              "      <td>Wikibooks: Radiation Oncology/NHL/CLL-SLL</td>\n",
              "      <td>https://en.wikibooks.org/wiki/Radiation_Oncolo...</td>\n",
              "      <td>Chronic Lymphocytic Leukemia and Small Lymphoc...</td>\n",
              "      <td>Front Page: Radiation Oncology | RTOG Trials |...</td>\n",
              "      <td>&lt;div class=\"mw-parser-output\"&gt;&lt;table width=\"10...</td>\n",
              "    </tr>\n",
              "    <tr>\n",
              "      <th>1</th>\n",
              "      <td>Wikibooks: Romanian/Lesson 9</td>\n",
              "      <td>https://en.wikibooks.org/wiki/Romanian/Lesson_9</td>\n",
              "      <td>==Băuturi/Beverages==</td>\n",
              "      <td>Băuturi/Beverages[edit]\\nTea : Ceai\\nMilk : La...</td>\n",
              "      <td>&lt;div class=\"mw-parser-output\"&gt;&lt;h2&gt;&lt;span id=\"B....</td>\n",
              "    </tr>\n",
              "    <tr>\n",
              "      <th>2</th>\n",
              "      <td>Wikibooks: Karrigell</td>\n",
              "      <td>https://en.wikibooks.org/wiki/Karrigell</td>\n",
              "      <td>Karrigell is an open Source Python web framewo...</td>\n",
              "      <td>Karrigell is an open Source Python web framewo...</td>\n",
              "      <td>&lt;div class=\"mw-parser-output\"&gt;&lt;p&gt;Karrigell is ...</td>\n",
              "    </tr>\n",
              "    <tr>\n",
              "      <th>3</th>\n",
              "      <td>Wikibooks: The Pyrogenesis Engine/0 A.D./GuiSe...</td>\n",
              "      <td>https://en.wikibooks.org/wiki/The_Pyrogenesis_...</td>\n",
              "      <td>====setupUnitPanel====</td>\n",
              "      <td>setupUnitPanel[edit]\\nHelper function for upda...</td>\n",
              "      <td>&lt;div class=\"mw-parser-output\"&gt;&lt;h4&gt;&lt;span class=...</td>\n",
              "    </tr>\n",
              "    <tr>\n",
              "      <th>4</th>\n",
              "      <td>Wikibooks: LMIs in Control/pages/Exterior Coni...</td>\n",
              "      <td>https://en.wikibooks.org/wiki/LMIs_in_Control/...</td>\n",
              "      <td>== The Concept ==</td>\n",
              "      <td>Contents\\n\\n1 The Concept\\n2 The System\\n3 The...</td>\n",
              "      <td>&lt;div class=\"mw-parser-output\"&gt;&lt;div id=\"toc\" cl...</td>\n",
              "    </tr>\n",
              "    <tr>\n",
              "      <th>...</th>\n",
              "      <td>...</td>\n",
              "      <td>...</td>\n",
              "      <td>...</td>\n",
              "      <td>...</td>\n",
              "      <td>...</td>\n",
              "    </tr>\n",
              "    <tr>\n",
              "      <th>82253</th>\n",
              "      <td>Wikibooks: Python Programming/Creating Python ...</td>\n",
              "      <td>https://en.wikibooks.org/wiki/Python_Programmi...</td>\n",
              "      <td>Welcome to Python! This tutorial will show you...</td>\n",
              "      <td>Previous: Self Help\\n\\nIndex\\n\\nNext: Variable...</td>\n",
              "      <td>&lt;div class=\"mw-parser-output\"&gt;&lt;div class=\"nopr...</td>\n",
              "    </tr>\n",
              "    <tr>\n",
              "      <th>82254</th>\n",
              "      <td>Wikibooks: Calculus/Precalculus</td>\n",
              "      <td>https://en.wikibooks.org/wiki/Calculus/Precalc...</td>\n",
              "      <td>==Precalculus==</td>\n",
              "      <td>← Contributing\\n\\nCalculus\\n\\nAlgebra →\\n\\n\\nP...</td>\n",
              "      <td>&lt;div class=\"mw-parser-output\"&gt;&lt;table width=\"10...</td>\n",
              "    </tr>\n",
              "    <tr>\n",
              "      <th>82255</th>\n",
              "      <td>Wikibooks: Castles of England/Somerset</td>\n",
              "      <td>https://en.wikibooks.org/wiki/Castles_of_Engla...</td>\n",
              "      <td>There are 11 castles in Somerset.</td>\n",
              "      <td>There are 11 castles in Somerset.\\n\\n\\n\\n\\nNam...</td>\n",
              "      <td>&lt;div class=\"mw-parser-output\"&gt;&lt;p&gt;There are 11 ...</td>\n",
              "    </tr>\n",
              "    <tr>\n",
              "      <th>82256</th>\n",
              "      <td>Wikibooks: Digital Technology and Cultures/Int...</td>\n",
              "      <td>https://en.wikibooks.org/wiki/Digital_Technolo...</td>\n",
              "      <td>=CULTURAL STUDIES AND IDENTITY=</td>\n",
              "      <td>Contents\\n\\n1 CULTURAL STUDIES AND IDENTITY\\n\\...</td>\n",
              "      <td>&lt;div class=\"mw-parser-output\"&gt;&lt;div id=\"toc\" cl...</td>\n",
              "    </tr>\n",
              "    <tr>\n",
              "      <th>82257</th>\n",
              "      <td>Wikibooks: English-Hanzi/Sardine is a nutritio...</td>\n",
              "      <td>https://en.wikibooks.org/wiki/English-Hanzi/Sa...</td>\n",
              "      <td>Sardine is a nutritious oily fish.</td>\n",
              "      <td>Sardine is a nutritious oily fish.\\n沙丁鱼是一种有营养的...</td>\n",
              "      <td>&lt;div class=\"mw-parser-output\"&gt;&lt;p&gt;Sardine is a ...</td>\n",
              "    </tr>\n",
              "  </tbody>\n",
              "</table>\n",
              "<p>82258 rows × 5 columns</p>\n",
              "</div>"
            ],
            "text/plain": [
              "                                                   title  \\\n",
              "0              Wikibooks: Radiation Oncology/NHL/CLL-SLL   \n",
              "1                           Wikibooks: Romanian/Lesson 9   \n",
              "2                                   Wikibooks: Karrigell   \n",
              "3      Wikibooks: The Pyrogenesis Engine/0 A.D./GuiSe...   \n",
              "4      Wikibooks: LMIs in Control/pages/Exterior Coni...   \n",
              "...                                                  ...   \n",
              "82253  Wikibooks: Python Programming/Creating Python ...   \n",
              "82254                    Wikibooks: Calculus/Precalculus   \n",
              "82255             Wikibooks: Castles of England/Somerset   \n",
              "82256  Wikibooks: Digital Technology and Cultures/Int...   \n",
              "82257  Wikibooks: English-Hanzi/Sardine is a nutritio...   \n",
              "\n",
              "                                                     url  \\\n",
              "0      https://en.wikibooks.org/wiki/Radiation_Oncolo...   \n",
              "1        https://en.wikibooks.org/wiki/Romanian/Lesson_9   \n",
              "2                https://en.wikibooks.org/wiki/Karrigell   \n",
              "3      https://en.wikibooks.org/wiki/The_Pyrogenesis_...   \n",
              "4      https://en.wikibooks.org/wiki/LMIs_in_Control/...   \n",
              "...                                                  ...   \n",
              "82253  https://en.wikibooks.org/wiki/Python_Programmi...   \n",
              "82254  https://en.wikibooks.org/wiki/Calculus/Precalc...   \n",
              "82255  https://en.wikibooks.org/wiki/Castles_of_Engla...   \n",
              "82256  https://en.wikibooks.org/wiki/Digital_Technolo...   \n",
              "82257  https://en.wikibooks.org/wiki/English-Hanzi/Sa...   \n",
              "\n",
              "                                                abstract  \\\n",
              "0      Chronic Lymphocytic Leukemia and Small Lymphoc...   \n",
              "1                                  ==Băuturi/Beverages==   \n",
              "2      Karrigell is an open Source Python web framewo...   \n",
              "3                                 ====setupUnitPanel====   \n",
              "4                                      == The Concept ==   \n",
              "...                                                  ...   \n",
              "82253  Welcome to Python! This tutorial will show you...   \n",
              "82254                                    ==Precalculus==   \n",
              "82255                  There are 11 castles in Somerset.   \n",
              "82256                    =CULTURAL STUDIES AND IDENTITY=   \n",
              "82257                 Sardine is a nutritious oily fish.   \n",
              "\n",
              "                                               body_text  \\\n",
              "0      Front Page: Radiation Oncology | RTOG Trials |...   \n",
              "1      Băuturi/Beverages[edit]\\nTea : Ceai\\nMilk : La...   \n",
              "2      Karrigell is an open Source Python web framewo...   \n",
              "3      setupUnitPanel[edit]\\nHelper function for upda...   \n",
              "4      Contents\\n\\n1 The Concept\\n2 The System\\n3 The...   \n",
              "...                                                  ...   \n",
              "82253  Previous: Self Help\\n\\nIndex\\n\\nNext: Variable...   \n",
              "82254  ← Contributing\\n\\nCalculus\\n\\nAlgebra →\\n\\n\\nP...   \n",
              "82255  There are 11 castles in Somerset.\\n\\n\\n\\n\\nNam...   \n",
              "82256  Contents\\n\\n1 CULTURAL STUDIES AND IDENTITY\\n\\...   \n",
              "82257  Sardine is a nutritious oily fish.\\n沙丁鱼是一种有营养的...   \n",
              "\n",
              "                                               body_html  \n",
              "0      <div class=\"mw-parser-output\"><table width=\"10...  \n",
              "1      <div class=\"mw-parser-output\"><h2><span id=\"B....  \n",
              "2      <div class=\"mw-parser-output\"><p>Karrigell is ...  \n",
              "3      <div class=\"mw-parser-output\"><h4><span class=...  \n",
              "4      <div class=\"mw-parser-output\"><div id=\"toc\" cl...  \n",
              "...                                                  ...  \n",
              "82253  <div class=\"mw-parser-output\"><div class=\"nopr...  \n",
              "82254  <div class=\"mw-parser-output\"><table width=\"10...  \n",
              "82255  <div class=\"mw-parser-output\"><p>There are 11 ...  \n",
              "82256  <div class=\"mw-parser-output\"><div id=\"toc\" cl...  \n",
              "82257  <div class=\"mw-parser-output\"><p>Sardine is a ...  \n",
              "\n",
              "[82258 rows x 5 columns]"
            ]
          },
          "metadata": {
            "tags": []
          },
          "execution_count": 11
        }
      ]
    },
    {
      "cell_type": "code",
      "metadata": {
        "id": "57cdeda3-331f-42b7-9291-cbe4dfe72c55",
        "outputId": "f6001383-6aba-407a-e882-ce39119157f9"
      },
      "source": [
        "df['url'][0:4]"
      ],
      "id": "57cdeda3-331f-42b7-9291-cbe4dfe72c55",
      "execution_count": null,
      "outputs": [
        {
          "output_type": "execute_result",
          "data": {
            "text/plain": [
              "0    https://en.wikibooks.org/wiki/Radiation_Oncolo...\n",
              "1      https://en.wikibooks.org/wiki/Romanian/Lesson_9\n",
              "2              https://en.wikibooks.org/wiki/Karrigell\n",
              "3    https://en.wikibooks.org/wiki/The_Pyrogenesis_...\n",
              "Name: url, dtype: object"
            ]
          },
          "metadata": {
            "tags": []
          },
          "execution_count": 13
        }
      ]
    },
    {
      "cell_type": "code",
      "metadata": {
        "id": "e69a7384-0fe8-4bf4-8756-0b72870b332f",
        "outputId": "adacd078-f556-4a09-9996-3dd6bb827d9a"
      },
      "source": [
        "df['abstract'][2]"
      ],
      "id": "e69a7384-0fe8-4bf4-8756-0b72870b332f",
      "execution_count": null,
      "outputs": [
        {
          "output_type": "execute_result",
          "data": {
            "text/plain": [
              "'Karrigell is an open Source Python web framework written in Python'"
            ]
          },
          "metadata": {
            "tags": []
          },
          "execution_count": 16
        }
      ]
    },
    {
      "cell_type": "code",
      "metadata": {
        "id": "042dfa5b-b517-4172-bcff-ecb88571879b"
      },
      "source": [
        "### Creating test file for this demo:\n",
        "testdata = {\n",
        "    'title' : ['Wikibooks: Radiation Oncology/NHL/CLL-SLL', 'Wikibooks: Romanian/Lesson 9', 'Wikibooks: Karrigell','Wikibooks: Calculus/Precalculus'],\n",
        "    'url' : ['https://en.wikibooks.org/wiki/Radiation_Oncolo', 'https://en.wikibooks.org/wiki/Romanian/Lesson_9', 'https://en.wikibooks.org/wiki/Karrigell','https://en.wikibooks.org/wiki/The_Pyrogenesis'],\n",
        "    'abstract' : ['Chronic Lymphocytic Leukemia and Small Lymphocytic Lymphoma (CLL/SLL)','==Băuturi/Beverages==','Karrigell is an open Source Python web framework written in Python','====setupUnitPanel====']\n",
        "}\n",
        "import pandas as pd\n",
        "df = pd.DataFrame(testdata, columns=['title', 'url','abstract'])\n",
        "df.to_csv(\"./test_data.csv\",index=False)"
      ],
      "id": "042dfa5b-b517-4172-bcff-ecb88571879b",
      "execution_count": null,
      "outputs": []
    },
    {
      "cell_type": "code",
      "metadata": {
        "id": "468648e2-d159-4e00-b527-805e615021c5",
        "outputId": "07623dd8-5edb-41f5-c1c9-ca7f4b6fc00d"
      },
      "source": [
        "df"
      ],
      "id": "468648e2-d159-4e00-b527-805e615021c5",
      "execution_count": null,
      "outputs": [
        {
          "output_type": "execute_result",
          "data": {
            "text/html": [
              "<div>\n",
              "<style scoped>\n",
              "    .dataframe tbody tr th:only-of-type {\n",
              "        vertical-align: middle;\n",
              "    }\n",
              "\n",
              "    .dataframe tbody tr th {\n",
              "        vertical-align: top;\n",
              "    }\n",
              "\n",
              "    .dataframe thead th {\n",
              "        text-align: right;\n",
              "    }\n",
              "</style>\n",
              "<table border=\"1\" class=\"dataframe\">\n",
              "  <thead>\n",
              "    <tr style=\"text-align: right;\">\n",
              "      <th></th>\n",
              "      <th>title</th>\n",
              "      <th>url</th>\n",
              "      <th>abstract</th>\n",
              "    </tr>\n",
              "  </thead>\n",
              "  <tbody>\n",
              "    <tr>\n",
              "      <th>0</th>\n",
              "      <td>Wikibooks: Radiation Oncology/NHL/CLL-SLL</td>\n",
              "      <td>https://en.wikibooks.org/wiki/Radiation_Oncolo</td>\n",
              "      <td>Chronic Lymphocytic Leukemia and Small Lymphoc...</td>\n",
              "    </tr>\n",
              "    <tr>\n",
              "      <th>1</th>\n",
              "      <td>Wikibooks: Romanian/Lesson 9</td>\n",
              "      <td>https://en.wikibooks.org/wiki/Romanian/Lesson_9</td>\n",
              "      <td>==Băuturi/Beverages==</td>\n",
              "    </tr>\n",
              "    <tr>\n",
              "      <th>2</th>\n",
              "      <td>Wikibooks: Karrigell</td>\n",
              "      <td>https://en.wikibooks.org/wiki/Karrigell</td>\n",
              "      <td>Karrigell is an open Source Python web framewo...</td>\n",
              "    </tr>\n",
              "    <tr>\n",
              "      <th>3</th>\n",
              "      <td>Wikibooks: Calculus/Precalculus</td>\n",
              "      <td>https://en.wikibooks.org/wiki/The_Pyrogenesis</td>\n",
              "      <td>====setupUnitPanel====</td>\n",
              "    </tr>\n",
              "  </tbody>\n",
              "</table>\n",
              "</div>"
            ],
            "text/plain": [
              "                                       title  \\\n",
              "0  Wikibooks: Radiation Oncology/NHL/CLL-SLL   \n",
              "1               Wikibooks: Romanian/Lesson 9   \n",
              "2                       Wikibooks: Karrigell   \n",
              "3            Wikibooks: Calculus/Precalculus   \n",
              "\n",
              "                                               url  \\\n",
              "0   https://en.wikibooks.org/wiki/Radiation_Oncolo   \n",
              "1  https://en.wikibooks.org/wiki/Romanian/Lesson_9   \n",
              "2          https://en.wikibooks.org/wiki/Karrigell   \n",
              "3    https://en.wikibooks.org/wiki/The_Pyrogenesis   \n",
              "\n",
              "                                            abstract  \n",
              "0  Chronic Lymphocytic Leukemia and Small Lymphoc...  \n",
              "1                              ==Băuturi/Beverages==  \n",
              "2  Karrigell is an open Source Python web framewo...  \n",
              "3                             ====setupUnitPanel====  "
            ]
          },
          "metadata": {
            "tags": []
          },
          "execution_count": 19
        }
      ]
    },
    {
      "cell_type": "code",
      "metadata": {
        "id": "f599bcb4-086c-4b9c-b76c-e67bc887de3c",
        "outputId": "deed8fa0-27fa-4303-f31b-c99d14479dd6"
      },
      "source": [
        "testdata"
      ],
      "id": "f599bcb4-086c-4b9c-b76c-e67bc887de3c",
      "execution_count": null,
      "outputs": [
        {
          "output_type": "execute_result",
          "data": {
            "text/plain": [
              "{'title': ['Wikibooks: Radiation Oncology/NHL/CLL-SLL',\n",
              "  'Wikibooks: Romanian/Lesson 9',\n",
              "  'Wikibooks: Karrigell',\n",
              "  'Wikibooks: Calculus/Precalculus'],\n",
              " 'url': ['https://en.wikibooks.org/wiki/Radiation_Oncolo',\n",
              "  'https://en.wikibooks.org/wiki/Romanian/Lesson_9',\n",
              "  'https://en.wikibooks.org/wiki/Karrigell',\n",
              "  'https://en.wikibooks.org/wiki/The_Pyrogenesis'],\n",
              " 'abstract': ['Chronic Lymphocytic Leukemia and Small Lymphocytic Lymphoma (CLL/SLL)',\n",
              "  '==Băuturi/Beverages==',\n",
              "  'Karrigell is an open Source Python web framework written in Python',\n",
              "  '====setupUnitPanel====']}"
            ]
          },
          "metadata": {
            "tags": []
          },
          "execution_count": 20
        }
      ]
    },
    {
      "cell_type": "code",
      "metadata": {
        "id": "9c230b3c-50e1-47c6-872a-97a4135d9281"
      },
      "source": [
        ""
      ],
      "id": "9c230b3c-50e1-47c6-872a-97a4135d9281",
      "execution_count": null,
      "outputs": []
    }
  ]
}